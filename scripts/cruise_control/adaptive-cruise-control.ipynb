{
 "cells": [
  {
   "attachments": {},
   "cell_type": "markdown",
   "metadata": {},
   "source": [
    "# Adaptive Cruise Control"
   ]
  },
  {
   "cell_type": "code",
   "execution_count": 1,
   "metadata": {},
   "outputs": [],
   "source": [
    "import matplotlib.pyplot as plt\n",
    "import hj_reachability as hj\n",
    "import jax.numpy as jnp\n",
    "import numpy as np\n",
    "import seaborn as sns\n",
    "import os\n",
    "import sys\n",
    "import matplotlib\n",
    "import matplotlib.pyplot as plt\n",
    "import matplotlib.gridspec as gridspec\n",
    "import matplotlib.animation as anim"
   ]
  },
  {
   "cell_type": "code",
   "execution_count": 2,
   "metadata": {},
   "outputs": [],
   "source": [
    "sys.path.insert(1, '../../lib')\n",
    "import refine_cbfs\n",
    "import experiment_wrapper\n",
    "import cbf_opt\n",
    "from experiment_wrapper import RolloutTrajectory, TimeSeriesExperiment, StateSpaceExperiment\n",
    "from cbf_opt import ControlAffineDynamics, ControlAffineCBF, ControlAffineASIF"
   ]
  },
  {
   "attachments": {},
   "cell_type": "markdown",
   "metadata": {},
   "source": [
    "## Setup Problem (dynamics, environment and CBF)"
   ]
  },
  {
   "attachments": {},
   "cell_type": "markdown",
   "metadata": {},
   "source": [
    "Dynamics of the Adaptive Cruise Control problem (control affine), in the format of `cbf_opt`\n",
    "\n",
    "`ACC_JNP_Dynamics` is required for usage with `hj_reachability` module"
   ]
  },
  {
   "cell_type": "code",
   "execution_count": 3,
   "metadata": {},
   "outputs": [],
   "source": [
    "class ACCDynamics(ControlAffineDynamics):\n",
    "    STATES = ['P', 'V', 'dP'] # position, velocity, distance between cars\n",
    "    CONTROLS = ['ACC']\n",
    "    def __init__(self, params, **kwargs):\n",
    "        params['n_dims'] = 3\n",
    "        params['control_dims'] = 1  # TODO: How to do this correctly?\n",
    "        self.mass = params[\"mass\"]\n",
    "        self.g = params[\"g\"]\n",
    "        self.f0 = params[\"f0\"]\n",
    "        self.f1 = params[\"f1\"]\n",
    "        self.f2 = params[\"f2\"]\n",
    "        self.rolling_resistance = lambda x: self.f0 + self.f1 * x[..., 1] + self.f2 * x[..., 1] ** 2\n",
    "        self.v0 = params[\"v0\"]\n",
    "        super().__init__(params, **kwargs)\n",
    "\n",
    "    def state_jacobian(self, state, control, time=0.):\n",
    "        J = np.repeat(np.zeros_like(state)[..., None], self.n_dims, axis=-1)\n",
    "        J[..., 0, 1] = 1\n",
    "        J[..., 1, 1] = -1 / self.mass * (self.f1 + 2 * self.f2 * state[..., 1])\n",
    "        J[..., 2, 1] = -1 \n",
    "        return J\n",
    "        \n",
    "    def open_loop_dynamics(self, state, time=0.):\n",
    "        f = np.zeros_like(state)\n",
    "        f[..., 0] = state[..., 1]\n",
    "        f[..., 1] = -1 / self.mass * self.rolling_resistance(state)\n",
    "        f[..., 2] = self.v0 - state[..., 1]\n",
    "        return f\n",
    "\n",
    "    def control_matrix(self, state, time=0.):\n",
    "        B = np.repeat(np.zeros_like(state)[..., None], self.control_dims, axis=-1)\n",
    "        B[..., 1, 0] = 1 / self.mass \n",
    "        return B\n",
    "\n",
    "\n",
    "class ACCJNPDynamics(ACCDynamics):\n",
    "    def __init__(self, params, **kwargs):\n",
    "        super().__init__(params, **kwargs)\n",
    "        self.rolling_resistance = lambda x: self.f0 + self.f1 * x[1] + self.f2 * x[1] ** 2\n",
    "\n",
    "    def open_loop_dynamics(self, state, time=0.0):\n",
    "        return jnp.array([state[1], -1 / self.mass * self.rolling_resistance(state), self.v0 - state[1]])\n",
    "\n",
    "    def control_matrix(self, state, time=0.0):\n",
    "        return jnp.expand_dims(jnp.array([0, 1 / self.mass, 0]), axis=-1)\n",
    "\n",
    "    def disturbance_jacobian(self, state, time=0.0):\n",
    "        return jnp.expand_dims(jnp.zeros(3), axis=-1)"
   ]
  },
  {
   "attachments": {},
   "cell_type": "markdown",
   "metadata": {},
   "source": [
    "Setting up the Dynamics with specific parameters for dry road and ice road"
   ]
  },
  {
   "cell_type": "code",
   "execution_count": 4,
   "metadata": {},
   "outputs": [],
   "source": [
    "# common parameters\n",
    "params_common = dict()\n",
    "params_common[\"dt\"] = 0.01\n",
    "params_common[\"g\"] = 9.81\n",
    "params_common['v0'] = 14  # lead vehicle velocity\n",
    "params_common['mass'] = 1650  # vehicle mass"
   ]
  },
  {
   "cell_type": "code",
   "execution_count": 5,
   "metadata": {},
   "outputs": [],
   "source": [
    "# dry road\n",
    "params_dry = params_common.copy()\n",
    "params_dry['f0'] = 0.1 * 3  # friction coefficient\n",
    "params_dry['f1'] = 5 * 3  # friction coefficient\n",
    "params_dry['f2'] = 0.25 * 3  # friction coefficient\n",
    "acc_dry = ACCDynamics(params_dry)\n",
    "acc_jnp_dry = ACCJNPDynamics(params_dry)\n",
    "\n",
    "# ice road\n",
    "params_ice = params_common.copy()\n",
    "params_ice['f0'] = 0.1\n",
    "params_ice['f1'] = 5\n",
    "params_ice['f2'] = 0.25\n",
    "acc_ice = ACCDynamics(params_ice)\n",
    "acc_jnp_ice = ACCJNPDynamics(params_ice)"
   ]
  },
  {
   "attachments": {},
   "cell_type": "markdown",
   "metadata": {},
   "source": [
    "# Constructing Initial Local CBFs"
   ]
  },
  {
   "cell_type": "code",
   "execution_count": 6,
   "metadata": {},
   "outputs": [],
   "source": [
    "class ACCCBF(ControlAffineCBF):\n",
    "    def __init__(self, dynamics, params, cd_limit, **kwargs):\n",
    "        self.Th = params[\"Th\"]\n",
    "        self.cd = cd_limit\n",
    "        super().__init__(dynamics, params, **kwargs)\n",
    "\n",
    "    def vf(self, state, time=None):\n",
    "        return state[..., 2] - self.Th * state[..., 1] - (state[..., 1] - self.dynamics.v0) ** 2 / (2 * self.cd * self.dynamics.g)\n",
    "\n",
    "    def vf_dt_partial(self, state, time=None):\n",
    "        return 0.0\n",
    "    \n",
    "    def _grad_vf(self, state, time=None):\n",
    "        dvf_dx = np.zeros_like(state)\n",
    "        dvf_dx[..., 1] = - self.Th  - (state[..., 1] - self.dynamics.v0) / (self.cd * self.dynamics.g)\n",
    "        dvf_dx[..., 2] = 1.0\n",
    "        return dvf_dx"
   ]
  },
  {
   "attachments": {},
   "cell_type": "markdown",
   "metadata": {},
   "source": [
    "Setting up the CBF with specific parameter instantiation"
   ]
  },
  {
   "cell_type": "code",
   "execution_count": 7,
   "metadata": {},
   "outputs": [],
   "source": [
    "cbf_params = dict()\n",
    "cbf_params[\"Th\"] = 1.8\n",
    "control_limit_dry = 0.3\n",
    "control_limit_ice = 0.1\n",
    "\n",
    "acc_cbf_dry = ACCCBF(acc_dry, cbf_params, control_limit_dry)\n",
    "acc_jnp_cbf_dry = ACCCBF(acc_jnp_dry, cbf_params, control_limit_dry)\n",
    "\n",
    "umax_dry = np.array([control_limit_dry * params_dry['mass'] * params_dry['g']])\n",
    "umin_dry = - umax_dry\n",
    "\n",
    "acc_cbf_ice = ACCCBF(acc_ice, cbf_params, control_limit_ice)\n",
    "acc_jnp_cbf_ice = ACCCBF(acc_jnp_ice, cbf_params, control_limit_ice)\n",
    "\n",
    "umax_ice = np.array([control_limit_ice * params_ice['mass'] * params_ice['g']])\n",
    "umin_ice = - umax_ice"
   ]
  },
  {
   "attachments": {},
   "cell_type": "markdown",
   "metadata": {},
   "source": [
    "### Environment"
   ]
  },
  {
   "cell_type": "code",
   "execution_count": 8,
   "metadata": {},
   "outputs": [],
   "source": [
    "dyn_reachability_jnp_dry = refine_cbfs.HJControlAffineDynamics(acc_jnp_dry, control_space=hj.sets.Box(jnp.array(umin_dry), jnp.array(umax_dry)))\n",
    "dyn_reachability_dry = refine_cbfs.HJControlAffineDynamics(acc_dry, control_space=hj.sets.Box(jnp.array(umin_dry), jnp.array(umax_dry)))\n",
    "\n",
    "dyn_reachability_jnp_ice = refine_cbfs.HJControlAffineDynamics(acc_jnp_ice, control_space=hj.sets.Box(jnp.array(umin_ice), jnp.array(umax_ice)))\n",
    "dyn_reachability_ice = refine_cbfs.HJControlAffineDynamics(acc_ice, control_space=hj.sets.Box(jnp.array(umin_ice), jnp.array(umax_ice)))\n",
    "\n",
    "low_bound = jnp.array([0., 10., 0.])\n",
    "high_bound = jnp.array([500, 40., 100.])\n",
    "nbr_pts = (101, 101, 101)\n",
    "grid = hj.Grid.from_lattice_parameters_and_boundary_conditions(hj.sets.Box(low_bound, high_bound), nbr_pts)\n",
    "grid_np = refine_cbfs.Grid.from_lattice_parameters_and_boundary_conditions(hj.sets.Box(low_bound, high_bound), nbr_pts)"
   ]
  },
  {
   "cell_type": "code",
   "execution_count": 9,
   "metadata": {},
   "outputs": [],
   "source": [
    "obstacle_dry = grid.states[..., 2] - acc_cbf_dry.Th * grid.states[..., 1]\n",
    "obstacle_ice = grid.states[..., 2] - acc_cbf_ice.Th * grid.states[..., 1]\n",
    "assert obstacle_dry.all() == obstacle_ice.all()"
   ]
  },
  {
   "attachments": {},
   "cell_type": "markdown",
   "metadata": {},
   "source": [
    "## Obtain the initial local CBFs using Dynamic Programming"
   ]
  },
  {
   "cell_type": "code",
   "execution_count": 10,
   "metadata": {},
   "outputs": [],
   "source": [
    "acc_tabular_cbf_dry = refine_cbfs.TabularControlAffineCBF(acc_dry, dict(), grid=grid)\n",
    "acc_jnp_tabular_cbf_dry = refine_cbfs.TabularControlAffineCBF(acc_jnp_dry, dict(), grid=grid)\n",
    "acc_tabular_cbf_dry.tabularize_cbf(acc_cbf_dry)\n",
    "acc_jnp_tabular_cbf_dry.tabularize_cbf(acc_jnp_cbf_dry)\n",
    "\n",
    "acc_tabular_cbf_ice = refine_cbfs.TabularControlAffineCBF(acc_ice, dict(), grid=grid)\n",
    "acc_jnp_tabular_cbf_ice = refine_cbfs.TabularControlAffineCBF(acc_jnp_ice, dict(), grid=grid)\n",
    "acc_tabular_cbf_ice.tabularize_cbf(acc_cbf_ice)\n",
    "acc_jnp_tabular_cbf_ice.tabularize_cbf(acc_jnp_cbf_ice)"
   ]
  },
  {
   "cell_type": "code",
   "execution_count": 11,
   "metadata": {},
   "outputs": [],
   "source": [
    "# backward reachability setups\n",
    "time = 0.\n",
    "target_time = - 20.0\n",
    "times = jnp.linspace(time, target_time, 101)\n",
    "backwards_reachable_tube = lambda obstacle: (lambda t, x: jnp.minimum(x, obstacle))"
   ]
  },
  {
   "cell_type": "code",
   "execution_count": 12,
   "metadata": {},
   "outputs": [
    {
     "name": "stderr",
     "output_type": "stream",
     "text": [
      "100%|##########| 20.0000/20.0 [01:20<00:00,  4.05s/sim_s]\n",
      "100%|##########| 20.0000/20.0 [01:20<00:00,  4.01s/sim_s]\n"
     ]
    }
   ],
   "source": [
    "# compute ice CBF values, it takes around 2 mins on desktop\n",
    "\n",
    "solver_settings = hj.SolverSettings.with_accuracy(\"medium\",\n",
    "                                                  value_postprocessor=backwards_reachable_tube(obstacle_ice))\n",
    "init_value = acc_jnp_tabular_cbf_ice.vf_table\n",
    "\n",
    "# unsafe set: the last value is negative\n",
    "target_values_hjr_ice = hj.solve(solver_settings, dyn_reachability_jnp_ice, grid, times, obstacle_ice)\n",
    "target_values_ice = hj.solve(solver_settings, dyn_reachability_jnp_ice, grid, times, init_value)"
   ]
  },
  {
   "cell_type": "code",
   "execution_count": 13,
   "metadata": {},
   "outputs": [
    {
     "name": "stderr",
     "output_type": "stream",
     "text": [
      "100%|##########| 20.0000/20.0 [01:34<00:00,  4.74s/sim_s]\n",
      "100%|##########| 20.0000/20.0 [01:34<00:00,  4.75s/sim_s]\n"
     ]
    }
   ],
   "source": [
    "# compute dry CBF values, it takes around 2 mins on desktop\n",
    "\n",
    "solver_settings = hj.SolverSettings.with_accuracy(\"medium\",\n",
    "                                                  value_postprocessor=backwards_reachable_tube(obstacle_dry))\n",
    "init_value_dry = acc_jnp_tabular_cbf_dry.vf_table\n",
    "target_values_hjr_dry= hj.solve(solver_settings, dyn_reachability_jnp_dry, grid, times, obstacle_dry)\n",
    "target_values_dry = hj.solve(solver_settings, dyn_reachability_jnp_dry, grid, times, init_value_dry)"
   ]
  },
  {
   "cell_type": "code",
   "execution_count": 14,
   "metadata": {},
   "outputs": [],
   "source": [
    "dataset_path = \"../../dataset/acc_data\"\n",
    "if not os.path.isdir(dataset_path):\n",
    "    os.makedirs(dataset_path)"
   ]
  },
  {
   "cell_type": "code",
   "execution_count": 15,
   "metadata": {},
   "outputs": [],
   "source": [
    "# save data\n",
    "\n",
    "with open(dataset_path + \"/target_values_ice.npy\", \"wb\") as f:\n",
    "    jnp.save(f, target_values_ice)\n",
    "with open(dataset_path + \"/target_values_hjr_ice.npy\", \"wb\") as f:\n",
    "    jnp.save(f, target_values_hjr_ice)\n",
    "with open(dataset_path + \"/target_values_dry.npy\", \"wb\") as f:\n",
    "    jnp.save(f, target_values_dry)\n",
    "with open(dataset_path + \"/target_values_hjr_dry.npy\", \"wb\") as f:\n",
    "    jnp.save(f, target_values_hjr_dry)"
   ]
  },
  {
   "cell_type": "code",
   "execution_count": 16,
   "metadata": {},
   "outputs": [],
   "source": [
    "# if you have computed values before, then just read them\n",
    "\n",
    "target_values_ice = jnp.load(dataset_path + \"/target_values_ice.npy\")\n",
    "target_values_hjr_ice = jnp.load(dataset_path + \"/target_values_hjr_ice.npy\")\n",
    "target_values_dry = jnp.load(dataset_path + \"/target_values_dry.npy\")\n",
    "target_values_hjr_dry = jnp.load(dataset_path + \"/target_values_hjr_dry.npy\")"
   ]
  },
  {
   "cell_type": "code",
   "execution_count": 17,
   "metadata": {},
   "outputs": [],
   "source": [
    "assert jnp.sum(jnp.where(target_values_ice[-1] > 0, 1, 0) ) == jnp.sum(jnp.where(target_values_dry[-1] > 0, 1, 0) * jnp.where(target_values_ice[-1] > 0, 1, 0))"
   ]
  },
  {
   "cell_type": "code",
   "execution_count": 18,
   "metadata": {},
   "outputs": [],
   "source": [
    "switch_position = 100\n",
    "switch_radius = 1.\n",
    "switch = abs(grid.states[..., 0] - switch_position) - switch_radius # considered as switching area\n",
    "\n",
    "# the intersection of safe dry and unsafe ice regions\n",
    "unsafe_ice_values = target_values_dry * target_values_ice\n",
    "\n",
    "# safe switching area\n",
    "safe_switch = jnp.maximum(switch, unsafe_ice_values[-1])"
   ]
  },
  {
   "attachments": {},
   "cell_type": "markdown",
   "metadata": {},
   "source": [
    "We need to refine dry CBF to make it aware of switching.\n",
    "Now, turning the converged dry value function into a CBVF that interfaces with `cbf_opt`"
   ]
  },
  {
   "cell_type": "code",
   "execution_count": 19,
   "metadata": {},
   "outputs": [],
   "source": [
    "# initialization with original local dry CBF\n",
    "\n",
    "refined_dry_cbf = refine_cbfs.TabularControlAffineCBF(acc_dry, grid=grid_np)\n",
    "refined_dry_cbf_jnp = refine_cbfs.TabularControlAffineCBF(acc_jnp_dry, grid=grid)\n",
    "refined_dry_cbf.vf_table = np.array(target_values_dry[-1])\n",
    "refined_dry_cbf_jnp.vf_table = target_values_dry[-1]"
   ]
  },
  {
   "cell_type": "code",
   "execution_count": 20,
   "metadata": {},
   "outputs": [
    {
     "name": "stderr",
     "output_type": "stream",
     "text": [
      "100%|##########| 20.0000/20.0 [01:34<00:00,  4.75s/sim_s]\n"
     ]
    }
   ],
   "source": [
    "# compute refined dry CBF values, it takes around 1 min on desktop\n",
    "\n",
    "new_obstacle = jnp.minimum(safe_switch, target_values_dry[-1])\n",
    "solver_settings = hj.SolverSettings.with_accuracy(\"medium\",\n",
    "                                                  value_postprocessor=backwards_reachable_tube(new_obstacle))\n",
    "init_value_refine_dry = refined_dry_cbf.vf_table\n",
    "target_values_refine_dry = hj.solve(solver_settings, dyn_reachability_jnp_dry, grid, times, init_value_refine_dry)"
   ]
  },
  {
   "cell_type": "code",
   "execution_count": 21,
   "metadata": {},
   "outputs": [],
   "source": [
    "# save data\n",
    "with open(dataset_path + \"/target_values_refined_dry.npy\", \"wb\") as f:\n",
    "    jnp.save(f, target_values_refine_dry)"
   ]
  },
  {
   "cell_type": "code",
   "execution_count": 22,
   "metadata": {},
   "outputs": [],
   "source": [
    "# read data\n",
    "target_values_refine_dry = jnp.load(dataset_path + \"/target_values_refined_dry.npy\")"
   ]
  },
  {
   "cell_type": "code",
   "execution_count": 23,
   "metadata": {},
   "outputs": [],
   "source": [
    "refined_cbf_dry = refine_cbfs.TabularControlAffineCBF(acc_dry, grid=grid_np)\n",
    "refined_cbf_dry.vf_table = np.array(target_values_refine_dry[-1])"
   ]
  },
  {
   "attachments": {},
   "cell_type": "markdown",
   "metadata": {},
   "source": [
    "## Running an experiment"
   ]
  },
  {
   "cell_type": "code",
   "execution_count": 24,
   "metadata": {},
   "outputs": [],
   "source": [
    "x0 = np.array([0, 30, 90])\n",
    "n_sims_per_start = 1\n",
    "t_sim = 20"
   ]
  },
  {
   "attachments": {},
   "cell_type": "markdown",
   "metadata": {},
   "source": [
    "Setting up the nominal controller\n",
    "We simply tune a proporitional controller for the nominal controller"
   ]
  },
  {
   "cell_type": "code",
   "execution_count": 25,
   "metadata": {},
   "outputs": [],
   "source": [
    "desired_vel = 35\n",
    "feedback_gain = 200\n",
    "nominal_policy = lambda x, t: np.atleast_1d(np.clip(-feedback_gain * (x[..., 1] - desired_vel), umin_dry, umax_dry))\n",
    "nominal_policy_jnp = lambda x, t: jnp.atleast_1d(jnp.clip(-feedback_gain * (x[..., 1] - desired_vel), umin_dry, umax_dry))"
   ]
  },
  {
   "attachments": {},
   "cell_type": "markdown",
   "metadata": {},
   "source": [
    "### Setting up the safety filter"
   ]
  },
  {
   "cell_type": "code",
   "execution_count": 26,
   "metadata": {},
   "outputs": [],
   "source": [
    "alpha_dry = lambda x: 0.2 * x\n",
    "alpha_ice = lambda x: 5. * x\n",
    "\n",
    "acc_asif_dry = ControlAffineASIF(acc_dry, acc_cbf_dry, alpha=alpha_dry, nominal_policy=nominal_policy, umin=umin_dry, umax=umax_dry)\n",
    "acc_asif_ice = ControlAffineASIF(acc_ice, acc_cbf_ice, alpha=alpha_ice, nominal_policy=nominal_policy, umin=umin_ice, umax=umax_ice)\n",
    "acc_asif_global = ControlAffineASIF(acc_ice, acc_cbf_ice, alpha=alpha_ice, nominal_policy=nominal_policy, umin=umin_dry, umax=umax_dry)\n",
    "acc_asif_dry_optimal = ControlAffineASIF(acc_dry, refined_cbf_dry, alpha=alpha_dry, nominal_policy=nominal_policy, umin=umin_dry, umax=umax_dry)\n",
    "acc_asif_dry_refined = ControlAffineASIF(acc_dry, refined_cbf_dry, alpha=alpha_dry, nominal_policy=nominal_policy, umin=umin_dry, umax=umax_dry)"
   ]
  },
  {
   "attachments": {},
   "cell_type": "markdown",
   "metadata": {},
   "source": [
    "Visualizations for paper + demo + videos"
   ]
  },
  {
   "attachments": {},
   "cell_type": "markdown",
   "metadata": {},
   "source": [
    "Safe set visualization"
   ]
  },
  {
   "cell_type": "code",
   "execution_count": 27,
   "metadata": {},
   "outputs": [],
   "source": [
    "matplotlib.rcParams.update({\n",
    "    \"pgf.texsystem\": \"pdflatex\",\n",
    "    'font.family': 'serif',\n",
    "    'font.size': '28',\n",
    "    'text.usetex': False,\n",
    "    'pgf.rcfonts': False,\n",
    "})\n",
    "\n",
    "colors = sns.color_palette(\"tab10\")\n",
    "chosen_colors = [(0.5, 0.5, 0.5)]\n",
    "chosen_colors.append(colors[0])\n",
    "chosen_colors.append(colors[1])\n",
    "\n",
    "colors = [(0.3, 0.3, 0.3)]\n",
    "colors += [(sns.color_palette(\"RdYlGn_r\", 7)[0])]\n",
    "colors += [(sns.color_palette(\"RdYlGn_r\", 9)[6])]\n",
    "colors += [(sns.color_palette(\"RdYlGn_r\", 9)[8])]\n",
    "colors += [(4 / 255, 101 / 255, 4 / 255)]\n",
    "colors = np.array(colors)\n",
    "\n",
    "alt_colors = sns.color_palette(\"pastel\", 9).as_hex()"
   ]
  },
  {
   "attachments": {},
   "cell_type": "markdown",
   "metadata": {},
   "source": [
    "### Online: Safety filter visualization"
   ]
  },
  {
   "cell_type": "code",
   "execution_count": 28,
   "metadata": {},
   "outputs": [],
   "source": [
    "experiment_paper = RolloutTrajectory('acc_example', start_x=x0, n_sims_per_start=n_sims_per_start, t_sim=t_sim)"
   ]
  },
  {
   "cell_type": "code",
   "execution_count": 29,
   "metadata": {},
   "outputs": [],
   "source": [
    "index_method_dict = {\n",
    "        0: \"vanilla\",\n",
    "        1: \"ours\",\n",
    "        2: \"global\"\n",
    "    }"
   ]
  },
  {
   "cell_type": "code",
   "execution_count": 36,
   "metadata": {},
   "outputs": [
    {
     "name": "stdout",
     "output_type": "stream",
     "text": [
      "x_current (position, velocity, distance):  [[ 0. 30. 90.]] (1, 3)\n"
     ]
    },
    {
     "name": "stderr",
     "output_type": "stream",
     "text": [
      "Controller rollout: 100%|██████████| 2000/2000 [00:00<00:00, 22238.50it/s]\n"
     ]
    },
    {
     "name": "stdout",
     "output_type": "stream",
     "text": [
      "switching time:  3.34\n",
      "x_current (position, velocity, distance):  [[ 0. 30. 90.]] (1, 3)\n"
     ]
    },
    {
     "name": "stderr",
     "output_type": "stream",
     "text": [
      "Controller rollout:  23%|██▎       | 455/2000 [00:00<00:02, 569.35it/s]"
     ]
    },
    {
     "name": "stdout",
     "output_type": "stream",
     "text": [
      "switching time:  3.81\n"
     ]
    },
    {
     "name": "stderr",
     "output_type": "stream",
     "text": [
      "Controller rollout: 100%|██████████| 2000/2000 [00:03<00:00, 592.33it/s]\n"
     ]
    },
    {
     "name": "stdout",
     "output_type": "stream",
     "text": [
      "x_current (position, velocity, distance):  [[ 0. 30. 90.]] (1, 3)\n"
     ]
    },
    {
     "name": "stderr",
     "output_type": "stream",
     "text": [
      "Controller rollout: 100%|██████████| 2000/2000 [00:00<00:00, 25010.38it/s]\n"
     ]
    },
    {
     "name": "stdout",
     "output_type": "stream",
     "text": [
      "switching time:  3.34\n",
      "x_current (position, velocity, distance):  [[ 0. 30. 90.]] (1, 3)\n"
     ]
    },
    {
     "name": "stderr",
     "output_type": "stream",
     "text": [
      "Controller rollout:  24%|██▍       | 482/2000 [00:01<00:03, 490.02it/s]"
     ]
    },
    {
     "name": "stdout",
     "output_type": "stream",
     "text": [
      "switching time:  3.97\n"
     ]
    },
    {
     "name": "stderr",
     "output_type": "stream",
     "text": [
      "Controller rollout: 100%|██████████| 2000/2000 [00:03<00:00, 518.77it/s]\n"
     ]
    },
    {
     "name": "stdout",
     "output_type": "stream",
     "text": [
      "x_current (position, velocity, distance):  [[ 0. 30. 90.]] (1, 3)\n"
     ]
    },
    {
     "name": "stderr",
     "output_type": "stream",
     "text": [
      "Controller rollout: 100%|██████████| 2000/2000 [00:00<00:00, 20502.32it/s]\n"
     ]
    },
    {
     "name": "stdout",
     "output_type": "stream",
     "text": [
      "switching time:  3.34\n",
      "x_current (position, velocity, distance):  [[ 0. 30. 90.]] (1, 3)\n"
     ]
    },
    {
     "name": "stderr",
     "output_type": "stream",
     "text": [
      "Controller rollout:  26%|██▋       | 525/2000 [00:00<00:02, 568.00it/s]"
     ]
    },
    {
     "name": "stdout",
     "output_type": "stream",
     "text": [
      "switching time:  4.21\n"
     ]
    },
    {
     "name": "stderr",
     "output_type": "stream",
     "text": [
      "Controller rollout: 100%|██████████| 2000/2000 [00:03<00:00, 569.12it/s]\n"
     ]
    }
   ],
   "source": [
    "for method_index in range(3):\n",
    "\n",
    "    if method_index == 0:\n",
    "        phase1_controller = acc_asif_dry\n",
    "    elif method_index == 2:\n",
    "        phase1_controller = acc_asif_global\n",
    "    else:\n",
    "        phase1_controller = acc_asif_dry_refined\n",
    "\n",
    "    paper_results, jump_state, traj = experiment_paper.run_hybrid(acc_dry, acc_ice, {'nominal': nominal_policy, 'Analytical': phase1_controller}, {'nominal': nominal_policy, 'Analytical': acc_asif_ice}, switch_position)\n",
    "\n",
    "    if method_index == 0:\n",
    "        traj_vanilla = traj\n",
    "    elif method_index == 2:\n",
    "        traj_global = traj\n",
    "    else:\n",
    "        traj_ours = traj\n",
    "        \n",
    "    assert abs(jump_state[0, 0] - switch_position) <= switch_radius"
   ]
  },
  {
   "cell_type": "code",
   "execution_count": 37,
   "metadata": {},
   "outputs": [],
   "source": [
    "# save trajectories data\n",
    "with open(dataset_path + \"/traj_vanilla.npy\", \"wb\") as f:\n",
    "   jnp.save(f, traj_vanilla)\n",
    "with open(dataset_path + \"/traj_ours.npy\", \"wb\") as f:\n",
    "   jnp.save(f, traj_ours)\n",
    "with open(dataset_path + \"/traj_global.npy\", \"wb\") as f:\n",
    "   jnp.save(f, traj_global)"
   ]
  },
  {
   "cell_type": "code",
   "execution_count": 51,
   "metadata": {},
   "outputs": [],
   "source": [
    "results_path = '../../results/acc_results'"
   ]
  },
  {
   "cell_type": "code",
   "execution_count": 52,
   "metadata": {},
   "outputs": [],
   "source": [
    "with open(results_path + \"/traj_vanilla.npy\", \"rb\") as f:\n",
    "    traj_vanilla = jnp.load(f)\n",
    "with open(results_path + \"/traj_ours.npy\", \"rb\") as f:\n",
    "    traj_ours = jnp.load(f)\n",
    "with open(results_path + \"/traj_global.npy\", \"rb\") as f:\n",
    "    traj_global = jnp.load(f)\n",
    "with open(results_path + \"/traj_mpc.npy\", \"rb\") as f:\n",
    "    traj_mpc = jnp.load(f)\n",
    "with open(results_path + \"/traj_ours_previous.npy\", \"rb\") as f:\n",
    "    traj_ours_acc = jnp.load(f)"
   ]
  },
  {
   "cell_type": "code",
   "execution_count": 53,
   "metadata": {},
   "outputs": [],
   "source": [
    "method_index = 4 # 0 is vanilla, 1 is ours, 2 is ACC paper approach, 3 is global CBF, 4 is MPC\n",
    "\n",
    "if method_index == 0:\n",
    "    traj = traj_vanilla\n",
    "elif method_index == 1:\n",
    "    traj = traj_ours\n",
    "elif method_index == 2:\n",
    "    traj = traj_ours_acc\n",
    "elif method_index == 3:\n",
    "    traj = traj_global\n",
    "else:\n",
    "    with open(results_path + \"/traj_mpc.npy\", \"rb\") as f:\n",
    "        traj_mpc = jnp.load(f)\n",
    "    traj = traj_mpc\n",
    "    \n",
    "colors = sns.color_palette(\"tab10\")\n",
    "alt_colors = sns.color_palette(\"pastel\", 9).as_hex()\n",
    "toggle_hjr_visualization = False\n",
    "save_video = False\n",
    "results_path = \"../../results\"\n",
    "video_file_name = results_path + \"acc.gif\""
   ]
  },
  {
   "cell_type": "code",
   "execution_count": 54,
   "metadata": {},
   "outputs": [
    {
     "name": "stderr",
     "output_type": "stream",
     "text": [
      "/tmp/ipykernel_1139715/35124947.py:65: MatplotlibDeprecationWarning: The collections attribute was deprecated in Matplotlib 3.8 and will be removed two minor releases later.\n",
      "  for pc in cont.collections]\n",
      "/tmp/ipykernel_1139715/35124947.py:67: MatplotlibDeprecationWarning: The collections attribute was deprecated in Matplotlib 3.8 and will be removed two minor releases later.\n",
      "  proxy += [plt.Rectangle((0,0),1,1,ec =colors[-1], fc='white', lw=5) for pc in cont.collections]\n",
      "/tmp/ipykernel_1139715/35124947.py:74: MatplotlibDeprecationWarning: The collections attribute was deprecated in Matplotlib 3.8 and will be removed two minor releases later.\n",
      "  for pc in cs.collections]\n",
      "/tmp/ipykernel_1139715/35124947.py:77: MatplotlibDeprecationWarning: The collections attribute was deprecated in Matplotlib 3.8 and will be removed two minor releases later.\n",
      "  for pc in cs.collections]\n",
      "/tmp/ipykernel_1139715/35124947.py:79: MatplotlibDeprecationWarning: The collections attribute was deprecated in Matplotlib 3.8 and will be removed two minor releases later.\n",
      "  proxy2 += [plt.Rectangle((0,0),1,1, fc='darkgreen', ec='darkgreen', alpha=0.3) for pc in obstacle_viz.collections]\n",
      "/tmp/ipykernel_1139715/35124947.py:9: MatplotlibDeprecationWarning: The collections attribute was deprecated in Matplotlib 3.8 and will be removed two minor releases later.\n",
      "  for c in cont.collections:\n",
      "MovieWriter ffmpeg unavailable; using Pillow instead.\n",
      "/tmp/ipykernel_1139715/35124947.py:9: MatplotlibDeprecationWarning: The collections attribute was deprecated in Matplotlib 3.8 and will be removed two minor releases later.\n",
      "  for c in cont.collections:\n"
     ]
    },
    {
     "data": {
      "image/png": "[encoded data removed]",
      "text/plain": [
       "<Figure size 900x1600 with 1 Axes>"
      ]
     },
     "metadata": {},
     "output_type": "display_data"
    }
   ],
   "source": [
    "font_size = 32\n",
    "params = {'axes.labelsize': font_size, 'axes.titlesize':font_size, 'font.size': font_size, 'legend.fontsize': font_size, \n",
    "          'xtick.labelsize': font_size, 'ytick.labelsize': font_size, 'lines.linewidth': 5}\n",
    "matplotlib.rcParams.update(params)\n",
    "\n",
    "def render_frame(i, colorbar=False):\n",
    "    global cont\n",
    "    # global cont_new\n",
    "    for c in cont.collections:\n",
    "        c.remove()\n",
    "    # timestamp.set_text(\"Time step = {}\".format(i))\n",
    "\n",
    "    if traj[i*20][0] >= switch_position - 2. and traj[i*20][0] <= switch_position + 2.:\n",
    "        switch_index = i\n",
    "        newpoint, = ax.plot(traj[i*20][1], traj[i*20][2], color=\"red\", marker=\"o\")\n",
    "        ## for our good traj\n",
    "        if method_index == 1:\n",
    "            ax.text(12, 50, 'switching \\n state', fontsize = font_size, color = 'red')\n",
    "            ax.arrow(17,48, 1.6,-1.5,width=0.2, color = 'red')\n",
    "        # for bad traj\n",
    "        elif method_index == 0:\n",
    "            ax.text(14.5, 49.5, 'switching \\n state', fontsize = font_size, color = 'red')\n",
    "            ax.arrow(18.6, 47.5, 1.6,-1.5,width=0.2, color = 'red')\n",
    "        # for ACC paper good traj\n",
    "        elif method_index == 2:\n",
    "            ax.text(13, 50, 'switching \\n state', fontsize = font_size, color = 'red')\n",
    "            ax.arrow(17,48, 1.6,-1.5,width=0.2, color = 'red')\n",
    "        # for global CBF\n",
    "        elif method_index == 3:\n",
    "            ax.text(11, 53, 'switching \\n state', fontsize = font_size, color = 'red')\n",
    "            ax.arrow(16,52, 1.6,-1.5,width=0.2, color = 'red')\n",
    "        # for mpc\n",
    "        else:\n",
    "            ax.text(15, 51, 'switching \\n state', fontsize = font_size, color = 'red')\n",
    "            ax.arrow(16, 47, 1.6, -1.5,width=0.2, color = 'red')\n",
    "\n",
    "    else:\n",
    "        newpoint, = ax.plot(traj[i*20][1], traj[i*20][2], color='blue', marker=\"o\")\n",
    "    \n",
    "    if True: # traj[i*20][0] >= switch_position + 0.5:\n",
    "        cont = ax.contourf(grid.coordinate_vectors[1], grid.coordinate_vectors[2], target_values_ice[-1][i].T, levels=[0, 200], \n",
    "                 colors='green', alpha=0.3)\n",
    "    # else:\n",
    "    #     cont = ax.contourf(grid.coordinate_vectors[1], grid.coordinate_vectors[2], target_values_refine_dry[-1][i].T, levels=[0, 200], \n",
    "    #              colors='green', alpha=0.3)\n",
    "\n",
    "proxy = [] \n",
    "\n",
    "fig, ax = plt.subplots(figsize=(9, 16))\n",
    "\n",
    "obstacle_viz = ax.contourf(grid.coordinate_vectors[1], grid.coordinate_vectors[2], obstacle_dry[0].T, levels=[-100, 0], \n",
    "                 colors='red', alpha=0.3)\n",
    "\n",
    "\n",
    "cs = ax.contourf(grid.coordinate_vectors[1], grid.coordinate_vectors[2], target_values_dry[-1][0].T, levels=[0, 200], \n",
    "                 colors='grey', alpha=0.3)\n",
    "\n",
    "cs = ax.contourf(grid.coordinate_vectors[1], grid.coordinate_vectors[2], target_values_ice[-1][0].T, levels=[0, 200], \n",
    "                 colors='black', alpha=0.3)\n",
    "\n",
    "cont = ax.contour(grid.coordinate_vectors[1], grid.coordinate_vectors[2], target_values_dry[0][0].T, levels=[0], \n",
    "                  colors=np.array([colors[3]]))   # Initial CBF\n",
    "\n",
    "proxy += [plt.Rectangle((0,0),1,1,ec =colors[3], fc='white', lw=5)\n",
    "        for pc in cont.collections]\n",
    "\n",
    "proxy += [plt.Rectangle((0,0),1,1,ec =colors[-1], fc='white', lw=5) for pc in cont.collections]\n",
    "\n",
    "timestamp = ax.text(0.05, 0.9, \"\", transform=ax.transAxes)\n",
    "\n",
    "ax.grid()\n",
    "proxy2 = []\n",
    "proxy2 += [plt.Rectangle((0,0),1,1,fc = alt_colors[3], ec=alt_colors[3], alpha=0.3)\n",
    "        for pc in cs.collections]\n",
    "\n",
    "proxy2 += [plt.Rectangle((0,0),1,1,fc = 'grey', ec='grey', alpha=0.3)\n",
    "        for pc in cs.collections]\n",
    "\n",
    "proxy2 += [plt.Rectangle((0,0),1,1, fc='darkgreen', ec='darkgreen', alpha=0.3) for pc in obstacle_viz.collections]\n",
    "\n",
    "# proxy2 += [plt.Rectangle((0,0),1,1, fc='green', ec='green', alpha=0.3) for pc in obstacle_viz.collections]\n",
    "\n",
    "legend_entries = [\"$\\partial \\mathcal{C}_h$\", \"$\\partial \\mathcal{C}_h(t)$\"]\n",
    "if toggle_hjr_visualization:\n",
    "    legend_entries += [\"$\\partial \\mathcal{C}_{\\ell}(t)$\"]\n",
    "\n",
    "ax.arrow(29,92,-2,-8,width=0.2, color = 'blue')\n",
    "ax.text(27, 94, 'trajectory', fontsize = font_size, color = 'blue')\n",
    "\n",
    "ax.legend(proxy2, [\"unsafe area\", \"safe set $\\mathcal{C}_{dry}$\", \"safe set $\\mathcal{C}_{ice}$\"],\n",
    "          loc='center', bbox_to_anchor=(0.70, 0.1), ncol=1, columnspacing=1.5, handletextpad=0.4,\n",
    "          facecolor=[0.8, 0.8, 0.8], edgecolor='black')\n",
    "\n",
    "ax.set_ylabel(\"Distance between vehicles ($d$) [m]\")\n",
    "ax.set_xlabel(\"Ego velocity ($v$) [m/s]\")\n",
    "\n",
    "render_frame(0, False)\n",
    "animation = anim.FuncAnimation(fig, render_frame, 50, interval=200)\n",
    "save_video = True\n",
    "if save_video:\n",
    "   animation.save(video_file_name, writer='ffmpeg')"
   ]
  },
  {
   "cell_type": "code",
   "execution_count": null,
   "metadata": {},
   "outputs": [],
   "source": []
  }
 ],
 "metadata": {
  "kernelspec": {
   "display_name": "Python 3.8.13 ('refine_cbf')",
   "language": "python",
   "name": "python3"
  },
  "language_info": {
   "codemirror_mode": {
    "name": "ipython",
    "version": 3
   },
   "file_extension": ".py",
   "mimetype": "text/x-python",
   "name": "python",
   "nbconvert_exporter": "python",
   "pygments_lexer": "ipython3",
   "version": "3.10.12"
  },
  "orig_nbformat": 4,
  "vscode": {
   "interpreter": {
    "hash": "817647b86e70f13476c612841a53261b77d8bded203e176d956e3e918f8a40e2"
   }
  }
 },
 "nbformat": 4,
 "nbformat_minor": 2
}
